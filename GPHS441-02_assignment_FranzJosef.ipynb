{
 "cells": [
  {
   "cell_type": "markdown",
   "metadata": {},
   "source": [
    "# GPHS/PHYS 441 Plate kinematic calculation assignment \n",
    "## Australia-Pacific plate motion, central South Island\n",
    "In this assignment you calculate Australia (AUS) - Pacific (PAC) plate motion by completing a plate motion chain through Antarctica (ANT). You then relocate a point in central South Island that is on the Alpine Fault at Franz Josef Glacier (FJG). Inspect the first code blocks to understand the input values.  \n",
    "\n",
    "Plate rotations are from Cande & Stock (2004); Geophysical Journal International 157: 399-414.\n",
    "\n",
    "## 1. Choice of parameterization  \n",
    "(2 marks)  \n",
    "  \n",
    "**Explain in <100 words the two main reasons why (longitude, latitude) is a poor choice of parameterization of position on a sphere, and what the best alternative is.**\n",
    "\n",
    "**Answer:**    \n",
    "Write your answer here.\n"
   ]
  },
  {
   "cell_type": "code",
   "execution_count": 1,
   "metadata": {},
   "outputs": [
    {
     "name": "stdout",
     "output_type": "stream",
     "text": [
      "Franz Josef Glacier position = [170.1883, -43.4639] = [-0.71519163  0.12368545 -0.68789741]\n"
     ]
    }
   ],
   "source": [
    "\"\"\" \n",
    "Take a close look at GPHS441_plates.py before you start. It is imported below as gp.\n",
    "\"\"\"\n",
    "import numpy as np\n",
    "import matplotlib.pyplot as plt\n",
    "import GPHS441_plates as gp\n",
    "\n",
    "lonlatFJG = [170.1883, -43.4639]\n",
    "pFJG = gp.positionVector(lonlatFJG)\n",
    "print('Franz Josef Glacier position =',lonlatFJG,'=',pFJG)\n"
   ]
  },
  {
   "cell_type": "code",
   "execution_count": 2,
   "metadata": {},
   "outputs": [],
   "source": [
    "# Definitions of rotations from Cande & Stock (2004) \n",
    "chron = ['2Ay','3Ay','5o','6o','8o','13o']\n",
    "age = [2.58,6.04,10.95,20.13,26.55,33.54]\n",
    "n = len(age)\n",
    "\n",
    "# Anarctica fixed, Australia moving\n",
    "ANTAUSpoles = [[-139.700,-11.164],[-139.230,-11.591],[-142.058,-11.896],\n",
    "               [-145.630,-13.393],[-146.444,-13.805],[-145.623,-13.451]]\n",
    "ANTAUSangle = [1.655,3.830,6.790,12.051,15.919,20.495]\n",
    "\n",
    "# Pacific plate fixed, Antarctica moving\n",
    "PACANTpoles = [[-79.484,65.532],[-81.949,66.988],[-77.855,70.355],\n",
    "               [-69.520,74.202],[-66.940,74.773],[-64.556,74.399]]\n",
    "PACANTangle = [-2.259,-5.195,-9.479,-16.870,-21.826,-27.360]\n"
   ]
  },
  {
   "cell_type": "markdown",
   "metadata": {},
   "source": [
    "## 2. Construct rotation matrices\n",
    "(2 marks)  \n",
    "  \n",
    "**Produce a `list` of length n for _h-vectors_ and _rotation matrices_ for each plate pair `ANTAUS` and `PACANT`.** \n",
    "\n",
    "Use the lists (above) of tabulated data from the publication to produce position vectors from each rotation pole, and scale each one to the rotation angle, to produce the 3 rotation parameters (h vector); and hence also construct a rotation matrix. \n",
    "\n",
    "The easiest way to do this is to use `for i in range(n):` method, as used in the Auckland-Wellington notebook to construct the small circle path. Remember that angles must be converted to radians."
   ]
  },
  {
   "cell_type": "code",
   "execution_count": 3,
   "metadata": {},
   "outputs": [
    {
     "name": "stdout",
     "output_type": "stream",
     "text": [
      "2.58 Ma ANT-AUS rotation [-139.7, -11.164] 1.655\n",
      "2.58 Ma PAC-ANT rotation [-79.484, 65.532] -2.259\n",
      "6.04 Ma ANT-AUS rotation [-139.23, -11.591] 3.83\n",
      "6.04 Ma PAC-ANT rotation [-81.949, 66.988] -5.195\n",
      "10.95 Ma ANT-AUS rotation [-142.058, -11.896] 6.79\n",
      "10.95 Ma PAC-ANT rotation [-77.855, 70.355] -9.479\n",
      "20.13 Ma ANT-AUS rotation [-145.63, -13.393] 12.051\n",
      "20.13 Ma PAC-ANT rotation [-69.52, 74.202] -16.87\n",
      "26.55 Ma ANT-AUS rotation [-146.444, -13.805] 15.919\n",
      "26.55 Ma PAC-ANT rotation [-66.94, 74.773] -21.826\n",
      "33.54 Ma ANT-AUS rotation [-145.623, -13.451] 20.495\n",
      "33.54 Ma PAC-ANT rotation [-64.556, 74.399] -27.36\n"
     ]
    }
   ],
   "source": [
    "# lists of h-vectors, and rotation matrices\n",
    "ANTAUSh = list() ; ANTAUS = list()\n",
    "PACANTh = list() ; PACANT = list()\n",
    "\n",
    "# Append values to each list\n",
    "for i in range(n):\n",
    "    \n",
    "    print(age[i],'Ma ANT-AUS rotation',ANTAUSpoles[i],ANTAUSangle[i])\n",
    "    # Append the h vector to the list using ANTAUSh.append()\n",
    "    \n",
    "\n",
    "    # Append the rotation matrix to the list using ANTAUS.append()\n",
    "    \n",
    "\n",
    "    #print(ANTAUS[i], '\\n')\n",
    "    \n",
    "    print(age[i],'Ma PAC-ANT rotation',PACANTpoles[i],PACANTangle[i])\n",
    "    # Append the h vector to the list using PACANTh.append()\n",
    "    \n",
    "\n",
    "    # Append the rotation matrix to the list using PACANT.append()\n",
    "        \n",
    "\n",
    "    #print(PACANT[i], '\\n')\n"
   ]
  },
  {
   "cell_type": "markdown",
   "metadata": {},
   "source": [
    "## 3. Combine rotation matrices\n",
    "(1 mark)  \n",
    "  \n",
    "**Construct a `list` of `PACAUS` rotation matrices (PAC fixed, AUS relocated).** \n",
    "\n",
    "Find a PAC-AUS rotation matrix by combining PAC-ANT and ANT-AUS rotations for each age. Use the `for i in range(n):` method (as above); and remember that matrix multiplication is achieved using the function `C = np.dot(A,B)`."
   ]
  },
  {
   "cell_type": "code",
   "execution_count": 4,
   "metadata": {},
   "outputs": [],
   "source": [
    "# lists of rotation matrices, and h-vectors from the matrices (see GPHS441_plates.py)\n",
    "PACAUS = list() ; PACAUSh = list()\n",
    "\n",
    "\n",
    "# for i in range(n):\n",
    "#     PACAUS.append( )\n",
    "#     PACAUSh.append( )   \n"
   ]
  },
  {
   "cell_type": "markdown",
   "metadata": {},
   "source": [
    "## 4. Reconstruct the position of Franz Josef\n",
    "(1 mark)  \n",
    "  \n",
    "**Use your rotations to create a `list` of rotated position vectors `pPACFJG`, assuming a fixed Pacific plate, and a `list` of position vectors with fixed Australian plate `pAUSFJG`.** \n",
    "\n",
    "The transpose of a rotation matrix (numpy array) `R` is given by `np.transpose(R)` or more simply `R.T`. \n",
    "A rotated position vector `b` is found by multiplying the rotation matrix and original position vector `b = np.dot(R,a)`"
   ]
  },
  {
   "cell_type": "code",
   "execution_count": 5,
   "metadata": {},
   "outputs": [],
   "source": [
    "pPACFJG = list()\n",
    "pAUSFJG = list()\n",
    "\n",
    "# Use a similar strategy to append a value to each list"
   ]
  },
  {
   "cell_type": "markdown",
   "metadata": {},
   "source": [
    "## 5. Convert position vectors to (lon,lat) and plot on a map\n",
    "(2 marks)  \n",
    "  \n",
    "**Convert your `list` of rotated position vectors into a `list` of [lon,lat] points, then plot Franz Josef Glacier and your reconstructed points on the map.**\n",
    "\n",
    "You may want to convert your list of points into an array and transpose it, to easily index arrays of longitude and latitude. For example:  \n",
    "`lonlatArray = np.asarray(lonlatList).T` and  \n",
    "`lonArray = lonlatArray[0]` or  \n",
    "`ax.plot(lonlatArray[0],lonlatArray[1])`"
   ]
  },
  {
   "cell_type": "code",
   "execution_count": 6,
   "metadata": {},
   "outputs": [
    {
     "data": {
      "image/png": "[encoded data removed]",
      "text/plain": [
       "<Figure size 576x576 with 1 Axes>"
      ]
     },
     "metadata": {
      "needs_background": "light"
     },
     "output_type": "display_data"
    }
   ],
   "source": [
    "# Create starting lists with the present day location\n",
    "lonlatPACFJG = [lonlatFJG] ; lonlatAUSFJG = [lonlatFJG]\n",
    "\n",
    "# for i in range(n):\n",
    "#     lonlatPACFJG.append( )\n",
    "#     lonlatAUSFJG.append( )\n",
    "\n",
    "# PACFJG = np.asarray(lonlatPACFJG).T\n",
    "# AUSFJG = np.asarray(lonlatAUSFJG).T\n",
    "\n",
    "fig,ax = gp.mapSetup([157,185,-51,-33],\"Relocation of Franz Josef Glacier\")\n",
    "\"\"\"\n",
    "ax.plot(lonlatFJG[0], lonlatFJG[1], marker='*', color='black',  markersize=15)\n",
    "ax.text(lonlatFJG[0]-0.3, lonlatFJG[1]+0.3, 'Franz Josef Glacier '+str(0)+' Ma', fontsize=8, backgroundcolor = 'white', \n",
    "        horizontalalignment='right', verticalalignment='bottom', rotation = -45)\n",
    "\n",
    "ax.plot(PACFJG[0], PACFJG[1], marker='o', color='darkblue', markersize=6)\n",
    "ax.plot(AUSFJG[0], AUSFJG[1], marker='o', color='darkred', markersize=6)\n",
    "\n",
    "for i in range(n):\n",
    "    ax.text(PACFJG[0,i+1]-.3, PACFJG[1,i+1]+.3, str(age[i])+' Ma', fontsize=8, \n",
    "        horizontalalignment='right', verticalalignment='bottom', rotation = -45)\n",
    "for i in range(n):\n",
    "    ax.text(AUSFJG[0,i+1]+0.3, AUSFJG[1,i+1]-0.3, str(age[i])+' Ma', fontsize=8, backgroundcolor = 'white', \n",
    "        horizontalalignment='left', verticalalignment='top', rotation = -45)\n",
    "\"\"\"\n",
    "ax.text(161, -36, 'AUSTRALIAN PLATE', fontsize=14, horizontalalignment='left')\n",
    "ax.text(182, -47, 'PACIFIC PLATE', fontsize=14, horizontalalignment='right')\n",
    "\n",
    "plt.show()\n"
   ]
  },
  {
   "cell_type": "markdown",
   "metadata": {},
   "source": [
    "## 6. Discuss the difference between the two paths\n",
    "(2 marks)  \n",
    "\n",
    "**Why are the reconstucted rates and directions of motion at  26-33 Ma so different for paths with different choices of fixed plate?** \n",
    "\n",
    "**Answer:**  \n",
    "Write your answer here"
   ]
  },
  {
   "cell_type": "code",
   "execution_count": null,
   "metadata": {},
   "outputs": [],
   "source": []
  }
 ],
 "metadata": {
  "kernelspec": {
   "display_name": "Python 3",
   "language": "python",
   "name": "python3"
  },
  "language_info": {
   "codemirror_mode": {
    "name": "ipython",
    "version": 3
   },
   "file_extension": ".py",
   "mimetype": "text/x-python",
   "name": "python",
   "nbconvert_exporter": "python",
   "pygments_lexer": "ipython3",
   "version": "3.7.4"
  }
 },
 "nbformat": 4,
 "nbformat_minor": 4
}
